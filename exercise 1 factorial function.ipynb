{
 "cells": [
  {
   "cell_type": "markdown",
   "id": "99d9f8e8-bb02-4b13-81d9-f5e57c9119a3",
   "metadata": {},
   "source": [
    "# Factorial Function in Python"
   ]
  },
  {
   "cell_type": "markdown",
   "id": "ef7522ab-37c7-4d5d-a077-4c2b83920a56",
   "metadata": {},
   "source": [
    "#### Objective: To practice creating Jupyter Notebooks, writing and running Python code, documenting with Markdown, and uploading the notebook to GitHub."
   ]
  },
  {
   "cell_type": "markdown",
   "id": "9d8705b0-60b2-4727-9af9-351e469d6ef2",
   "metadata": {},
   "source": [
    "\n",
    "\n",
    "This notebook demonstrates:\n",
    "- How to define a simple Python function\n",
    "- Using recursion to calculate factorial\n",
    "- Documenting with Markdown cells"
   ]
  },
  {
   "cell_type": "code",
   "execution_count": 1,
   "id": "0f7ea74a-3a56-443e-8448-53a164e76cb7",
   "metadata": {},
   "outputs": [],
   "source": [
    "\n",
    "def factorial(n):\n",
    "    if n == 0 or n == 1:\n",
    "        return 1\n",
    "    else:\n",
    "        return n * factorial(n - 1)"
   ]
  },
  {
   "cell_type": "code",
   "execution_count": 3,
   "id": "0d5ea3b1-bad2-49a4-8a35-347c94b6a22b",
   "metadata": {},
   "outputs": [
    {
     "name": "stdout",
     "output_type": "stream",
     "text": [
      "120\n"
     ]
    }
   ],
   "source": [
    "\n",
    "print(factorial(5))"
   ]
  },
  {
   "cell_type": "markdown",
   "id": "0815e9d3-2844-493d-80e7-ab7e3055fef9",
   "metadata": {},
   "source": [
    "Base case: If the number is 0 or 1, return 1.\n",
    "(Because 0! = 1 and 1! = 1 by definition.)\n",
    "\n",
    "Recursive case: If n is bigger than 1, the function calls itself with n - 1.\n",
    "So factorial(5) → 5 × factorial(4) → 5 × 4 × factorial(3) … until it reaches factorial(1)."
   ]
  },
  {
   "cell_type": "markdown",
   "id": "fd04eda8-1745-4847-a6d7-868caa9c9e61",
   "metadata": {},
   "source": [
    "## How the Factorial Function Works\n",
    "\n",
    "The factorial of a number `n` is the product of all positive integers up to `n`.  \n",
    "For example:  \n",
    "**5! = 5 × 4 × 3 × 2 × 1 = 120**\n",
    "\n",
    "We used a **recursive approach**:\n",
    "- If `n` is 0 or 1, return 1.  \n",
    "- Otherwise, return `n × factorial(n - 1)`.  \n",
    "\n",
    "This continues until the base case (1 or 0) is reached."
   ]
  },
  {
   "cell_type": "markdown",
   "id": "e375b8dd-ed4d-40ec-bee7-5015651660b0",
   "metadata": {},
   "source": [
    "### Why Recursion Works Here\n",
    "\n",
    "Each time the function calls itself, the problem becomes smaller (n gets reduced by 1).\n",
    "Eventually, it reaches the base case (1), and then the results are multiplied back together."
   ]
  },
  {
   "cell_type": "code",
   "execution_count": null,
   "id": "b8a4e447-9d05-44de-973a-9e407dfa0ce5",
   "metadata": {},
   "outputs": [],
   "source": []
  }
 ],
 "metadata": {
  "kernelspec": {
   "display_name": "Python [conda env:miniconda3] *",
   "language": "python",
   "name": "conda-env-miniconda3-py"
  },
  "language_info": {
   "codemirror_mode": {
    "name": "ipython",
    "version": 3
   },
   "file_extension": ".py",
   "mimetype": "text/x-python",
   "name": "python",
   "nbconvert_exporter": "python",
   "pygments_lexer": "ipython3",
   "version": "3.13.5"
  }
 },
 "nbformat": 4,
 "nbformat_minor": 5
}
