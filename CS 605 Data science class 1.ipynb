{
 "cells": [
  {
   "cell_type": "markdown",
   "id": "bc65ac98-d1fd-4c27-941d-724cad20ccb7",
   "metadata": {},
   "source": [
    "## Test"
   ]
  },
  {
   "cell_type": "code",
   "execution_count": null,
   "id": "b2be835b-ae87-45ec-96c7-b2767abdceda",
   "metadata": {},
   "outputs": [],
   "source": [
    "print(\"hello world\")"
   ]
  },
  {
   "cell_type": "code",
   "execution_count": 2,
   "id": "eece7449-208b-4be9-94c1-b56a2373f7c1",
   "metadata": {},
   "outputs": [
    {
     "name": "stdout",
     "output_type": "stream",
     "text": [
      "Hello, my name is [Your name]\n"
     ]
    }
   ],
   "source": [
    "print (\"Hello, my name is [Your name]\")"
   ]
  },
  {
   "cell_type": "markdown",
   "id": "01a6851e-c9b5-438d-8e4e-decd062df843",
   "metadata": {},
   "source": [
    "### Time for some maths"
   ]
  },
  {
   "cell_type": "code",
   "execution_count": 3,
   "id": "29024003-d560-496b-ad52-fc9b0cb296c3",
   "metadata": {},
   "outputs": [
    {
     "data": {
      "text/plain": [
       "4"
      ]
     },
     "execution_count": 3,
     "metadata": {},
     "output_type": "execute_result"
    }
   ],
   "source": [
    "2+2"
   ]
  },
  {
   "cell_type": "code",
   "execution_count": 5,
   "id": "3ad139c5-5f4a-48bb-b2f5-1e34757dc6ac",
   "metadata": {},
   "outputs": [
    {
     "name": "stdout",
     "output_type": "stream",
     "text": [
      "2+3= 5\n"
     ]
    }
   ],
   "source": [
    "print (\"2+3=\", 2+3)"
   ]
  },
  {
   "cell_type": "code",
   "execution_count": 7,
   "id": "42d65688-20ad-4407-b387-cfe7b1d1729d",
   "metadata": {},
   "outputs": [
    {
     "name": "stdout",
     "output_type": "stream",
     "text": [
      "10*5= 50\n"
     ]
    }
   ],
   "source": [
    "print (\"10*5=\" , 10*5)"
   ]
  },
  {
   "cell_type": "markdown",
   "id": "f598a9de-6a6d-40e1-8eca-727a22fb750c",
   "metadata": {},
   "source": [
    "## ASCII ART"
   ]
  },
  {
   "cell_type": "code",
   "execution_count": 8,
   "id": "bc4774ce-9aa3-4c1d-96c4-7cf5d816245b",
   "metadata": {},
   "outputs": [
    {
     "name": "stdout",
     "output_type": "stream",
     "text": [
      "  *  \n",
      " *** \n",
      "*****\n"
     ]
    }
   ],
   "source": [
    "print(\"  *  \")\n",
    "print(\" *** \")\n",
    "print(\"*****\")"
   ]
  },
  {
   "cell_type": "markdown",
   "id": "8ae1f68e-a051-470e-8d1a-214f379b6c5f",
   "metadata": {},
   "source": [
    "# Tell me something about you"
   ]
  },
  {
   "cell_type": "code",
   "execution_count": 9,
   "id": "1519f51f-cf26-4db8-8aec-d2ae103338ef",
   "metadata": {},
   "outputs": [
    {
     "name": "stdout",
     "output_type": "stream",
     "text": [
      "My favourite colour is blue\n",
      "My favourite food is pizza\n"
     ]
    }
   ],
   "source": [
    "print (\"My favourite colour is blue\")\n",
    "print(\"My favourite food is pizza\")"
   ]
  },
  {
   "cell_type": "markdown",
   "id": "35815d0f-4b35-4317-8c0f-fdfdb275b275",
   "metadata": {},
   "source": [
    "# Working with libraries"
   ]
  },
  {
   "cell_type": "code",
   "execution_count": 11,
   "id": "cdb6ea0c-3a2a-4145-86b5-27c3e507400a",
   "metadata": {},
   "outputs": [
    {
     "name": "stdout",
     "output_type": "stream",
     "text": [
      "current time is: 2025-08-21 13:11:11.078317\n"
     ]
    }
   ],
   "source": [
    "import datetime\n",
    "print ('current time is:' , datetime.datetime.now())"
   ]
  },
  {
   "cell_type": "markdown",
   "id": "e6a9a732-0d20-4002-a73f-56b8c7296eb8",
   "metadata": {},
   "source": [
    "# Some challenges\n",
    "can you print a multiplication table for 5 (1 upto 10)"
   ]
  },
  {
   "cell_type": "code",
   "execution_count": 13,
   "id": "708eef22-a91d-4ce4-8b5a-3068ffdfcad2",
   "metadata": {},
   "outputs": [
    {
     "name": "stdout",
     "output_type": "stream",
     "text": [
      " 5 *  1 = 5\n",
      " 5 *  2 = 10\n",
      " 5 *  3 = 15\n",
      " 5 *  4 = 20\n",
      " 5 *  5 = 25\n",
      " 5 *  6 = 30\n",
      " 5 *  7 = 35\n",
      " 5 *  8 = 40\n",
      " 5 *  9 = 45\n",
      " 5 *  10 = 50\n"
     ]
    }
   ],
   "source": [
    "\n",
    "for i in range (1 ,11):\n",
    "    print(\" 5 * \" , i , \"=\" , 5*i)"
   ]
  },
  {
   "cell_type": "markdown",
   "id": "af8710b4-c83d-4622-94dc-d453773d0bbb",
   "metadata": {},
   "source": [
    "## Lets do some plotting"
   ]
  },
  {
   "cell_type": "code",
   "execution_count": 20,
   "id": "8015a8d6-68d0-4983-9e16-94a719f425a8",
   "metadata": {},
   "outputs": [
    {
     "name": "stdout",
     "output_type": "stream",
     "text": [
      "Collecting matplotlib\n",
      "  Downloading matplotlib-3.10.5-cp313-cp313-macosx_11_0_arm64.whl.metadata (11 kB)\n",
      "Requirement already satisfied: contourpy>=1.0.1 in /opt/miniconda3/lib/python3.13/site-packages (from matplotlib) (1.3.1)\n",
      "Collecting cycler>=0.10 (from matplotlib)\n",
      "  Downloading cycler-0.12.1-py3-none-any.whl.metadata (3.8 kB)\n",
      "Collecting fonttools>=4.22.0 (from matplotlib)\n",
      "  Downloading fonttools-4.59.1-cp313-cp313-macosx_10_13_universal2.whl.metadata (108 kB)\n",
      "Collecting kiwisolver>=1.3.1 (from matplotlib)\n",
      "  Downloading kiwisolver-1.4.9-cp313-cp313-macosx_11_0_arm64.whl.metadata (6.3 kB)\n",
      "Requirement already satisfied: numpy>=1.23 in /opt/miniconda3/lib/python3.13/site-packages (from matplotlib) (2.2.5)\n",
      "Requirement already satisfied: packaging>=20.0 in /opt/miniconda3/lib/python3.13/site-packages (from matplotlib) (24.2)\n",
      "Requirement already satisfied: pillow>=8 in /opt/miniconda3/lib/python3.13/site-packages (from matplotlib) (11.1.0)\n",
      "Collecting pyparsing>=2.3.1 (from matplotlib)\n",
      "  Downloading pyparsing-3.2.3-py3-none-any.whl.metadata (5.0 kB)\n",
      "Requirement already satisfied: python-dateutil>=2.7 in /opt/miniconda3/lib/python3.13/site-packages (from matplotlib) (2.9.0.post0)\n",
      "Requirement already satisfied: six>=1.5 in /opt/miniconda3/lib/python3.13/site-packages (from python-dateutil>=2.7->matplotlib) (1.17.0)\n",
      "Downloading matplotlib-3.10.5-cp313-cp313-macosx_11_0_arm64.whl (8.1 MB)\n",
      "\u001b[2K   \u001b[90m━━━━━━━━━━━━━━━━━━━━━━━━━━━━━━━━━━━━━━━━\u001b[0m \u001b[32m8.1/8.1 MB\u001b[0m \u001b[31m19.6 MB/s\u001b[0m eta \u001b[36m0:00:00\u001b[0ma \u001b[36m0:00:01\u001b[0m\n",
      "\u001b[?25hDownloading cycler-0.12.1-py3-none-any.whl (8.3 kB)\n",
      "Downloading fonttools-4.59.1-cp313-cp313-macosx_10_13_universal2.whl (2.8 MB)\n",
      "\u001b[2K   \u001b[90m━━━━━━━━━━━━━━━━━━━━━━━━━━━━━━━━━━━━━━━━\u001b[0m \u001b[32m2.8/2.8 MB\u001b[0m \u001b[31m22.5 MB/s\u001b[0m eta \u001b[36m0:00:00\u001b[0m\n",
      "\u001b[?25hDownloading kiwisolver-1.4.9-cp313-cp313-macosx_11_0_arm64.whl (64 kB)\n",
      "Downloading pyparsing-3.2.3-py3-none-any.whl (111 kB)\n",
      "Installing collected packages: pyparsing, kiwisolver, fonttools, cycler, matplotlib\n",
      "\u001b[2K   \u001b[90m━━━━━━━━━━━━━━━━━━━━━━━━━━━━━━━━━━━━━━━━\u001b[0m \u001b[32m5/5\u001b[0m [matplotlib]5\u001b[0m [matplotlib]\n",
      "\u001b[1A\u001b[2KSuccessfully installed cycler-0.12.1 fonttools-4.59.1 kiwisolver-1.4.9 matplotlib-3.10.5 pyparsing-3.2.3\n",
      "Note: you may need to restart the kernel to use updated packages.\n"
     ]
    }
   ],
   "source": [
    "pip install matplotlib"
   ]
  },
  {
   "cell_type": "code",
   "execution_count": 21,
   "id": "d31c131a-5ccd-421f-9395-9aaa76b813b8",
   "metadata": {},
   "outputs": [
    {
     "data": {
      "image/png": "[encoded data removed]",
      "text/plain": [
       "<Figure size 640x480 with 1 Axes>"
      ]
     },
     "metadata": {},
     "output_type": "display_data"
    }
   ],
   "source": [
    "import matplotlib.pyplot as plt\n",
    "x=list(range(0,11))\n",
    "y=[i**2 for i in x]\n",
    "\n",
    "plt.plot(x, y)\n",
    "plt.xlabel(\"x values\")\n",
    "plt.ylabel(\"y = x^2\")\n",
    "plt.title(\"Square Function\")\n",
    "plt.show()\n"
   ]
  },
  {
   "cell_type": "code",
   "execution_count": null,
   "id": "1087df15-bbdd-450c-8772-bd1a84f98a9a",
   "metadata": {},
   "outputs": [],
   "source": []
  }
 ],
 "metadata": {
  "kernelspec": {
   "display_name": "Python [conda env:base] *",
   "language": "python",
   "name": "conda-base-py"
  },
  "language_info": {
   "codemirror_mode": {
    "name": "ipython",
    "version": 3
   },
   "file_extension": ".py",
   "mimetype": "text/x-python",
   "name": "python",
   "nbconvert_exporter": "python",
   "pygments_lexer": "ipython3",
   "version": "3.13.5"
  }
 },
 "nbformat": 4,
 "nbformat_minor": 5
}
